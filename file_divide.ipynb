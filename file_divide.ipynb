{
 "cells": [
  {
   "cell_type": "code",
   "execution_count": 1,
   "metadata": {},
   "outputs": [],
   "source": [
    "import pandas as pd"
   ]
  },
  {
   "cell_type": "code",
   "execution_count": 2,
   "metadata": {},
   "outputs": [
    {
     "data": {
      "text/html": "<div>\n<style scoped>\n    .dataframe tbody tr th:only-of-type {\n        vertical-align: middle;\n    }\n\n    .dataframe tbody tr th {\n        vertical-align: top;\n    }\n\n    .dataframe thead th {\n        text-align: right;\n    }\n</style>\n<table border=\"1\" class=\"dataframe\">\n  <thead>\n    <tr style=\"text-align: right;\">\n      <th></th>\n      <th>station_id</th>\n      <th>stationname</th>\n      <th>date</th>\n      <th>daytype</th>\n      <th>rides</th>\n    </tr>\n  </thead>\n  <tbody>\n    <tr>\n      <th>0</th>\n      <td>41280</td>\n      <td>Jefferson Park</td>\n      <td>12/22/2017</td>\n      <td>W</td>\n      <td>6,104</td>\n    </tr>\n    <tr>\n      <th>1</th>\n      <td>41000</td>\n      <td>Cermak-Chinatown</td>\n      <td>12/18/2017</td>\n      <td>W</td>\n      <td>3,636</td>\n    </tr>\n    <tr>\n      <th>2</th>\n      <td>40280</td>\n      <td>Central-Lake</td>\n      <td>12/02/2017</td>\n      <td>A</td>\n      <td>1,270</td>\n    </tr>\n    <tr>\n      <th>3</th>\n      <td>40140</td>\n      <td>Dempster-Skokie</td>\n      <td>12/19/2017</td>\n      <td>W</td>\n      <td>1,759</td>\n    </tr>\n    <tr>\n      <th>4</th>\n      <td>40690</td>\n      <td>Dempster</td>\n      <td>12/03/2017</td>\n      <td>U</td>\n      <td>499</td>\n    </tr>\n  </tbody>\n</table>\n</div>",
      "text/plain": "   station_id       stationname        date daytype  rides\n0       41280    Jefferson Park  12/22/2017       W  6,104\n1       41000  Cermak-Chinatown  12/18/2017       W  3,636\n2       40280      Central-Lake  12/02/2017       A  1,270\n3       40140   Dempster-Skokie  12/19/2017       W  1,759\n4       40690          Dempster  12/03/2017       U    499"
     },
     "execution_count": 2,
     "metadata": {},
     "output_type": "execute_result"
    }
   ],
   "source": [
    "df = pd.read_csv ('CTA_-_Ridership_-__L__Station_Entries_-_Daily_Totals.csv')\n",
    "df.head()"
   ]
  },
  {
   "cell_type": "code",
   "execution_count": 3,
   "metadata": {},
   "outputs": [
    {
     "data": {
      "text/plain": "(1088958, 5)"
     },
     "execution_count": 3,
     "metadata": {},
     "output_type": "execute_result"
    }
   ],
   "source": [
    "df.shape"
   ]
  },
  {
   "cell_type": "code",
   "execution_count": 4,
   "metadata": {},
   "outputs": [
    {
     "data": {
      "text/plain": "station_id      int64\nstationname    object\ndate           object\ndaytype        object\nrides          object\ndtype: object"
     },
     "execution_count": 4,
     "metadata": {},
     "output_type": "execute_result"
    }
   ],
   "source": [
    "df.dtypes"
   ]
  },
  {
   "cell_type": "code",
   "execution_count": 7,
   "metadata": {},
   "outputs": [],
   "source": [
    "#df['stationname'] = df['stationname'].str.replace('/','+')"
   ]
  },
  {
   "cell_type": "code",
   "execution_count": 5,
   "metadata": {},
   "outputs": [
    {
     "data": {
      "text/plain": "147"
     },
     "execution_count": 5,
     "metadata": {},
     "output_type": "execute_result"
    }
   ],
   "source": [
    "station_ids = df.station_id.unique()\n",
    "len(station_ids) #147 unique stations"
   ]
  },
  {
   "cell_type": "code",
   "execution_count": 11,
   "metadata": {},
   "outputs": [
    {
     "output_type": "execute_result",
     "data": {
      "text/plain": "147"
     },
     "metadata": {},
     "execution_count": 11
    }
   ],
   "source": [
    "file_names = []\n",
    "for i in station_ids:\n",
    "    file_names.append(str(i) + \".csv\")\n",
    "    # file_names.append(file_name.stationname.unique()[0]+ \".csv\")\n",
    "len(file_names)"
   ]
  },
  {
   "cell_type": "code",
   "execution_count": 12,
   "metadata": {},
   "outputs": [
    {
     "output_type": "execute_result",
     "data": {
      "text/plain": "['41280.csv',\n '41000.csv',\n '40280.csv',\n '40140.csv',\n '40690.csv',\n '41660.csv',\n '40180.csv',\n '40250.csv',\n '40120.csv',\n '41420.csv',\n '40270.csv',\n '41450.csv',\n '41210.csv',\n '40010.csv',\n '41160.csv',\n '40720.csv',\n '40330.csv',\n '40540.csv',\n '40420.csv',\n '40260.csv',\n '40130.csv',\n '40450.csv',\n '40560.csv',\n '40200.csv',\n '41020.csv',\n '40100.csv',\n '40490.csv',\n '40990.csv',\n '41310.csv',\n '40090.csv',\n '40370.csv',\n '41290.csv',\n '40380.csv',\n '40770.csv',\n '41030.csv',\n '41230.csv',\n '40800.csv',\n '40580.csv',\n '40290.csv',\n '41510.csv',\n '41490.csv',\n '40080.csv',\n '40470.csv',\n '40730.csv',\n '40040.csv',\n '40520.csv',\n '40570.csv',\n '41690.csv',\n '40190.csv',\n '41410.csv',\n '40890.csv',\n '41070.csv',\n '41220.csv',\n '41460.csv',\n '40160.csv',\n '41320.csv',\n '40240.csv',\n '40680.csv',\n '40310.csv',\n '40430.csv',\n '40350.csv',\n '41120.csv',\n '41430.csv',\n '40830.csv',\n '40300.csv',\n '41090.csv',\n '40550.csv',\n '40230.csv',\n '41400.csv',\n '40590.csv',\n '41150.csv',\n '40910.csv',\n '41040.csv',\n '41440.csv',\n '40320.csv',\n '40210.csv',\n '40480.csv',\n '40640.csv',\n '40020.csv',\n '40150.csv',\n '41180.csv',\n '40780.csv',\n '40750.csv',\n '40710.csv',\n '40650.csv',\n '40340.csv',\n '40700.csv',\n '40900.csv',\n '40760.csv',\n '40220.csv',\n '40440.csv',\n '40610.csv',\n '40740.csv',\n '40940.csv',\n '40920.csv',\n '41500.csv',\n '41050.csv',\n '40030.csv',\n '40980.csv',\n '41060.csv',\n '41170.csv',\n '41130.csv',\n '41240.csv',\n '40960.csv',\n '40400.csv',\n '41080.csv',\n '40460.csv',\n '40930.csv',\n '41270.csv',\n '40670.csv',\n '40170.csv',\n '40060.csv',\n '41350.csv',\n '41670.csv',\n '40850.csv',\n '41300.csv',\n '40360.csv',\n '41330.csv',\n '41190.csv',\n '40840.csv',\n '40970.csv',\n '40810.csv',\n '40050.csv',\n '40630.csv',\n '40070.csv',\n '41700.csv',\n '40870.csv',\n '41250.csv',\n '41680.csv',\n '41260.csv',\n '41380.csv',\n '40600.csv',\n '40390.csv',\n '41360.csv',\n '40510.csv',\n '41010.csv',\n '40530.csv',\n '41200.csv',\n '41340.csv',\n '40790.csv',\n '40820.csv',\n '41140.csv',\n '40660.csv',\n '40880.csv',\n '41480.csv',\n '40500.csv',\n '41580.csv']"
     },
     "metadata": {},
     "execution_count": 12
    }
   ],
   "source": [
    "file_names"
   ]
  },
  {
   "cell_type": "code",
   "execution_count": 13,
   "metadata": {},
   "outputs": [],
   "source": [
    "for i in range(len(station_ids)):\n",
    "    df_subset = df.loc[(df['station_id'] == station_ids[i])]\n",
    "    df_subset.to_csv(file_names[i], sep=\",\")"
   ]
  },
  {
   "cell_type": "code",
   "execution_count": null,
   "metadata": {},
   "outputs": [],
   "source": []
  }
 ],
 "metadata": {
  "kernelspec": {
   "display_name": "Python 3.9.2 64-bit",
   "language": "python",
   "name": "python39264bit05f04888200f4bd5a4992cdac5bb0d5b"
  },
  "language_info": {
   "codemirror_mode": {
    "name": "ipython",
    "version": 3
   },
   "file_extension": ".py",
   "mimetype": "text/x-python",
   "name": "python",
   "nbconvert_exporter": "python",
   "pygments_lexer": "ipython3",
   "version": "3.9.2-final"
  }
 },
 "nbformat": 4,
 "nbformat_minor": 5
}