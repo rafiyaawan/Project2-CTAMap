{
 "cells": [
  {
   "cell_type": "code",
   "execution_count": 1,
   "metadata": {},
   "outputs": [],
   "source": [
    "import pandas as pd"
   ]
  },
  {
   "cell_type": "code",
   "execution_count": 3,
   "metadata": {},
   "outputs": [
    {
     "data": {
      "text/html": [
       "<div>\n",
       "<style scoped>\n",
       "    .dataframe tbody tr th:only-of-type {\n",
       "        vertical-align: middle;\n",
       "    }\n",
       "\n",
       "    .dataframe tbody tr th {\n",
       "        vertical-align: top;\n",
       "    }\n",
       "\n",
       "    .dataframe thead th {\n",
       "        text-align: right;\n",
       "    }\n",
       "</style>\n",
       "<table border=\"1\" class=\"dataframe\">\n",
       "  <thead>\n",
       "    <tr style=\"text-align: right;\">\n",
       "      <th></th>\n",
       "      <th>station_id</th>\n",
       "      <th>stationname</th>\n",
       "      <th>date</th>\n",
       "      <th>daytype</th>\n",
       "      <th>rides</th>\n",
       "    </tr>\n",
       "  </thead>\n",
       "  <tbody>\n",
       "    <tr>\n",
       "      <th>0</th>\n",
       "      <td>41280</td>\n",
       "      <td>Jefferson Park</td>\n",
       "      <td>12/22/2017</td>\n",
       "      <td>W</td>\n",
       "      <td>6,104</td>\n",
       "    </tr>\n",
       "    <tr>\n",
       "      <th>1</th>\n",
       "      <td>41000</td>\n",
       "      <td>Cermak-Chinatown</td>\n",
       "      <td>12/18/2017</td>\n",
       "      <td>W</td>\n",
       "      <td>3,636</td>\n",
       "    </tr>\n",
       "    <tr>\n",
       "      <th>2</th>\n",
       "      <td>40280</td>\n",
       "      <td>Central-Lake</td>\n",
       "      <td>12/02/2017</td>\n",
       "      <td>A</td>\n",
       "      <td>1,270</td>\n",
       "    </tr>\n",
       "    <tr>\n",
       "      <th>3</th>\n",
       "      <td>40140</td>\n",
       "      <td>Dempster-Skokie</td>\n",
       "      <td>12/19/2017</td>\n",
       "      <td>W</td>\n",
       "      <td>1,759</td>\n",
       "    </tr>\n",
       "    <tr>\n",
       "      <th>4</th>\n",
       "      <td>40690</td>\n",
       "      <td>Dempster</td>\n",
       "      <td>12/03/2017</td>\n",
       "      <td>U</td>\n",
       "      <td>499</td>\n",
       "    </tr>\n",
       "  </tbody>\n",
       "</table>\n",
       "</div>"
      ],
      "text/plain": [
       "   station_id       stationname        date daytype  rides\n",
       "0       41280    Jefferson Park  12/22/2017       W  6,104\n",
       "1       41000  Cermak-Chinatown  12/18/2017       W  3,636\n",
       "2       40280      Central-Lake  12/02/2017       A  1,270\n",
       "3       40140   Dempster-Skokie  12/19/2017       W  1,759\n",
       "4       40690          Dempster  12/03/2017       U    499"
      ]
     },
     "execution_count": 3,
     "metadata": {},
     "output_type": "execute_result"
    }
   ],
   "source": [
    "df = pd.read_csv ('CTA_-_Ridership_-__L__Station_Entries_-_Daily_Totals.csv')\n",
    "df.head()"
   ]
  },
  {
   "cell_type": "code",
   "execution_count": 5,
   "metadata": {},
   "outputs": [
    {
     "data": {
      "text/plain": [
       "(1088958, 5)"
      ]
     },
     "execution_count": 5,
     "metadata": {},
     "output_type": "execute_result"
    }
   ],
   "source": [
    "df.shape"
   ]
  },
  {
   "cell_type": "code",
   "execution_count": 6,
   "metadata": {
    "scrolled": true
   },
   "outputs": [
    {
     "data": {
      "text/plain": [
       "station_id      int64\n",
       "stationname    object\n",
       "date           object\n",
       "daytype        object\n",
       "rides          object\n",
       "dtype: object"
      ]
     },
     "execution_count": 6,
     "metadata": {},
     "output_type": "execute_result"
    }
   ],
   "source": [
    "df.dtypes"
   ]
  },
  {
   "cell_type": "code",
   "execution_count": 7,
   "metadata": {},
   "outputs": [],
   "source": [
    "df['stationname'] = df['stationname'].str.replace('/','+')"
   ]
  },
  {
   "cell_type": "code",
   "execution_count": 13,
   "metadata": {},
   "outputs": [
    {
     "data": {
      "text/plain": [
       "147"
      ]
     },
     "execution_count": 13,
     "metadata": {},
     "output_type": "execute_result"
    }
   ],
   "source": [
    "station_ids = df.station_id.unique()\n",
    "len(station_ids)"
   ]
  },
  {
   "cell_type": "code",
   "execution_count": 14,
   "metadata": {},
   "outputs": [
    {
     "data": {
      "text/plain": [
       "147"
      ]
     },
     "execution_count": 14,
     "metadata": {},
     "output_type": "execute_result"
    }
   ],
   "source": [
    "file_names = []\n",
    "for i in station_ids:\n",
    "    file_name = df.loc[df['station_id'] == i]\n",
    "    file_names.append(file_name.stationname.unique()[0]+ \".csv\")\n",
    "len(file_names)"
   ]
  },
  {
   "cell_type": "code",
   "execution_count": 10,
   "metadata": {},
   "outputs": [
    {
     "data": {
      "text/plain": [
       "['Jefferson Park.csv',\n",
       " 'Cermak-Chinatown.csv',\n",
       " 'Central-Lake.csv',\n",
       " 'Dempster-Skokie.csv',\n",
       " 'Dempster.csv',\n",
       " 'Lake+State.csv',\n",
       " 'Oak Park-Forest Park.csv',\n",
       " 'Kedzie-Homan-Forest Park.csv',\n",
       " '35th+Archer.csv',\n",
       " 'Addison-North Main.csv',\n",
       " 'Main.csv',\n",
       " 'Chicago+State.csv',\n",
       " 'Wellington.csv',\n",
       " 'Austin-Forest Park.csv',\n",
       " 'Clinton-Lake.csv',\n",
       " 'East 63rd-Cottage Grove.csv',\n",
       " 'Grand+State.csv',\n",
       " 'Wilson.csv',\n",
       " 'Cicero-Cermak.csv',\n",
       " 'State+Lake.csv',\n",
       " '51st.csv',\n",
       " '95th+Dan Ryan.csv',\n",
       " 'Jackson+State.csv',\n",
       " 'Randolph+Wabash.csv',\n",
       " 'Logan Square.csv',\n",
       " 'Morse.csv',\n",
       " 'Grand+Milwaukee.csv',\n",
       " '69th.csv',\n",
       " 'Paulina.csv',\n",
       " 'Damen-Brown.csv',\n",
       " 'Washington+Dearborn.csv',\n",
       " 'Kimball.csv',\n",
       " 'Clark+Lake.csv',\n",
       " 'Lawrence.csv',\n",
       " 'Polk.csv',\n",
       " '47th-Dan Ryan.csv',\n",
       " 'Sedgwick.csv',\n",
       " '54th+Cermak.csv',\n",
       " 'Ashland+63rd.csv',\n",
       " 'Morgan-Lake.csv',\n",
       " 'Harrison.csv',\n",
       " 'Sheridan.csv',\n",
       " 'Racine.csv',\n",
       " 'Washington+Wells.csv',\n",
       " 'Quincy+Wells.csv',\n",
       " 'Foster.csv',\n",
       " 'California+Milwaukee.csv',\n",
       " 'Cermak-McCormick Place.csv',\n",
       " 'Sox-35th-Dan Ryan.csv',\n",
       " 'Chicago+Milwaukee.csv',\n",
       " \"O'Hare Airport.csv\",\n",
       " 'Kedzie-Lake.csv',\n",
       " 'Fullerton.csv',\n",
       " 'Irving Park-Brown.csv',\n",
       " 'LaSalle+Van Buren.csv',\n",
       " 'Belmont-North Main.csv',\n",
       " '79th.csv',\n",
       " 'Adams+Wabash.csv',\n",
       " 'Western-Orange.csv',\n",
       " 'Clinton-Forest Park.csv',\n",
       " 'UIC-Halsted.csv',\n",
       " '35-Bronzeville-IIT.csv',\n",
       " '87th.csv',\n",
       " '18th.csv',\n",
       " 'Indiana.csv',\n",
       " 'Monroe+State.csv',\n",
       " \"Irving Park-O'Hare.csv\",\n",
       " 'Cumberland.csv',\n",
       " 'Roosevelt.csv',\n",
       " 'Damen+Milwaukee.csv',\n",
       " 'Kedzie-Midway.csv',\n",
       " '63rd-Dan Ryan.csv',\n",
       " 'Kedzie-Cermak.csv',\n",
       " 'Addison-Brown.csv',\n",
       " 'Division+Milwaukee.csv',\n",
       " 'Damen-Cermak.csv',\n",
       " 'Cicero-Lake.csv',\n",
       " 'Madison+Wabash.csv',\n",
       " 'Harlem-Lake.csv',\n",
       " 'Pulaski-Cermak.csv',\n",
       " 'Kedzie-Brown.csv',\n",
       " 'Central Park.csv',\n",
       " \"Harlem-O'Hare.csv\",\n",
       " 'Chicago+Franklin.csv',\n",
       " 'North+Clybourn.csv',\n",
       " 'Berwyn.csv',\n",
       " 'Laramie.csv',\n",
       " 'Howard.csv',\n",
       " 'Granville.csv',\n",
       " 'Western-Forest Park.csv',\n",
       " 'California-Cermak.csv',\n",
       " 'Ridgeland.csv',\n",
       " 'Western-Cermak.csv',\n",
       " 'Halsted+63rd.csv',\n",
       " 'Pulaski-Forest Park.csv',\n",
       " 'Montrose-Brown.csv',\n",
       " 'Linden.csv',\n",
       " 'Pulaski-Lake.csv',\n",
       " 'Harlem-Forest Park.csv',\n",
       " 'Ashland-Orange.csv',\n",
       " 'Garfield-Dan Ryan.csv',\n",
       " 'Halsted-Orange.csv',\n",
       " \"Addison-O'Hare.csv\",\n",
       " 'Pulaski-Orange.csv',\n",
       " 'Noyes.csv',\n",
       " '47th-South Elevated.csv',\n",
       " 'Merchandise Mart.csv',\n",
       " 'Midway Airport.csv',\n",
       " '43rd.csv',\n",
       " 'Western+Milwaukee.csv',\n",
       " 'Ashland-Lake.csv',\n",
       " \"Belmont-O'Hare.csv\",\n",
       " 'Oak Park-Lake.csv',\n",
       " 'Conservatory.csv',\n",
       " 'Library.csv',\n",
       " 'Loyola.csv',\n",
       " 'Southport.csv',\n",
       " \"Montrose-O'Hare.csv\",\n",
       " 'Jarvis.csv',\n",
       " 'South Boulevard.csv',\n",
       " 'Cicero-Forest Park.csv',\n",
       " 'Medical Center.csv',\n",
       " 'Davis.csv',\n",
       " 'Clark+Division.csv',\n",
       " 'Jackson+Dearborn.csv',\n",
       " 'Washington+Wabash.csv',\n",
       " 'Francisco.csv',\n",
       " 'Central-Evanston.csv',\n",
       " 'Oakton-Skokie.csv',\n",
       " 'Austin-Lake.csv',\n",
       " 'Bryn Mawr.csv',\n",
       " 'Kostner.csv',\n",
       " 'Forest Park.csv',\n",
       " 'California-Lake.csv',\n",
       " 'Garfield-South Elevated.csv',\n",
       " 'Rockwell.csv',\n",
       " 'Diversey.csv',\n",
       " 'Argyle.csv',\n",
       " 'LaSalle.csv',\n",
       " 'Monroe+Dearborn.csv',\n",
       " 'Rosemont.csv',\n",
       " 'King Drive.csv',\n",
       " 'Armitage.csv',\n",
       " 'Thorndale.csv',\n",
       " 'Western-Brown.csv',\n",
       " 'Washington+State.csv',\n",
       " 'Homan.csv']"
      ]
     },
     "execution_count": 10,
     "metadata": {},
     "output_type": "execute_result"
    }
   ],
   "source": [
    "file_names"
   ]
  },
  {
   "cell_type": "code",
   "execution_count": 11,
   "metadata": {},
   "outputs": [],
   "source": [
    "for i in range(len(station_ids)):\n",
    "    df_subset = df.loc[(df['station_id'] == station_ids[i])]\n",
    "    df_subset.to_csv(file_names[i], sep=\",\")"
   ]
  },
  {
   "cell_type": "code",
   "execution_count": null,
   "metadata": {},
   "outputs": [],
   "source": []
  }
 ],
 "metadata": {
  "kernelspec": {
   "display_name": "Python 3.9.2 64-bit",
   "language": "python",
   "name": "python39264bit05f04888200f4bd5a4992cdac5bb0d5b"
  },
  "language_info": {
   "codemirror_mode": {
    "name": "ipython",
    "version": 3
   },
   "file_extension": ".py",
   "mimetype": "text/x-python",
   "name": "python",
   "nbconvert_exporter": "python",
   "pygments_lexer": "ipython3",
   "version": "3.9.2"
  }
 },
 "nbformat": 4,
 "nbformat_minor": 5
}
